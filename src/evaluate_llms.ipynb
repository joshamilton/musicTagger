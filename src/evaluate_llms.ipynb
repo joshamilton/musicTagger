{
 "cells": [
  {
   "cell_type": "markdown",
   "metadata": {},
   "source": [
    "# evaluate_llms.ipynb\n",
    "# Copyright (c) 2025, Joshua J Hamilton\n",
    "\n",
    "In this notebook, we will evaluate the ability of different LLMs to tag classical music audio files.\n",
    "\n",
    "I will evaluate some of the following LLMs:\n",
    "* Claude 3.5 Sonnet\n",
    "* DeepSeek R1\n",
    "* Gemini 2.0 Flash\n",
    "* GPT o1\n",
    "* Llama 3.3-70B\n",
    "\n",
    "To evaluate the LLMs, I will\n",
    "* Perform prompt engineering to generate prompts for each LLM. Validate prompts based on works I have tagged thus far.\n",
    "* Evaluate prompts and LLMs and select one for testing.\n",
    "* Test the optimized prompt on a test set containing the complete works of Beethoven, who was not in the validation set\n",
    "\n",
    "Validation set:\n",
    "|updated_composer        |updated_album                                            |updated_orchestra                 |updated_conductor|updated_soloists |\n",
    "|------------------------|---------------------------------------------------------|----------------------------------|-----------------|-----------------|\n",
    "|Bach, Johann Sebastian  |Brandenburg Concertos · Orchestral Suites · Chamber Music|Musica Antiqua Köln               |Goebel, Reinhard |                 |\n",
    "|Bach, Johann Sebastian  |Harpsichord Concertos                                    |Leonhardt-Consort                 |Leonhardt, Gustav|Leonhardt, Gustav|\n",
    "|Bach, Johann Sebastian  |Harpsichord Concertos                                    |Leonhardt-Consort                 |Leonhardt, Gustav|Curtis, Alan     |\n",
    "|Bach, Johann Sebastian  |Organ Works                                              |                                  |                 |Walcha, Helmut   |\n",
    "|Bach, Johann Sebastian  |Complete Bach Collection                                 |                                  |                 |Gould, Glenn     |\n",
    "|Handel, George Frideric |Concerti Grossi Op 3 & Op 6                              |Münchener Bach-Orchester          |Richter, Karl    |                 |\n",
    "|Handel, George Frideric |Organ & Harpsichord Music                                |Amsterdam Baroque Orchestra       |                 |Koopman, Ton     |\n",
    "|Handel, George Frideric |Organ & Harpsichord Music                                |                                  |                 |Ross, Scott      |\n",
    "|Handel, George Frideric |Organ & Harpsichord Music                                |                                  |                 |Baumont, Olivier |\n",
    "|Handel, George Frideric |Music for the Royal Fireworks · Water Music              |Academy of St Martin in the Fields|Marriner, Neville|                 |\n",
    "|Haydn, Joseph           |The Six Organ Concertos                                  |Amsterdam Baroque Orchestra       |Koopman, Ton     |Koopman, Ton     |\n",
    "|Haydn, Joseph           |Complete Harpsichord Concertos                           |Musica Antiqua Amsterdam          |Koopman, Ton     |Koopman, Ton     |\n",
    "|Haydn, Joseph           |Complete Music for Solo Keyboard                         |                                  |                 |Brautigam, Ronald|\n",
    "|Haydn, Joseph           |Complete String Quartets                                 |Angeles String Quartet            |                 |                 |\n",
    "|Haydn, Joseph           |Complete Symphonies                                      |Austro-Hungarian Haydn Orchestra  |Fischer, Adam    |                 |\n",
    "|Mozart, Wolfgang Amadeus|Overtures                                                |Staatskapelle Dresden             |Davis, Colin     |                 |\n",
    "|Mozart, Wolfgang Amadeus|Complete Piano Sonatas                                   |                                  |                 |Brautigam, Ronald|\n",
    "|Mozart, Wolfgang Amadeus|Serenaden & Divertimenti                                 |Camerata Salzburg                 |Vegh, Sandor     |                 |\n",
    "|Mozart, Wolfgang Amadeus|The String Quartets                                      |Amadeus Quartet                   |                 |                 |\n",
    "|Mozart, Wolfgang Amadeus|The String Quintets                                      |Amadeus Quartet                   |                 |Aronowitz, Cecil |\n",
    "|Mozart, Wolfgang Amadeus|46 Symphonies                                            |Berlin Philharmonic               |Böhm, Karl       |                 |\n",
    "|Mozart, Wolfgang Amadeus|Piano Concertos                                          |Camerata Salzburg                 |Vegh, Sandor     |Schiff, András   |\n",
    "|Vivaldi, Antonio        |Vivaldi Edition, Volume 1                                |I Musici                          |                 |                 |\n",
    "|Vivaldi, Antonio        |Vivaldi Edition, Volume 2                                |I Musici                          |                 |                 |\n",
    "\n",
    "Test set:\n",
    "| Genre    | Composer  | Type of Work    | Recording                                    |\n",
    "| -------- | --------- | --------------- | -------------------------------------------- |\n",
    "| Romantic | Beethoven | Overtures       | Leipzig Gewandhaus Orchestra with Kart Masur |\n",
    "| Romantic | Beethoven | Piano Concertos | Wilhelm Kempff                               |\n",
    "| Romantic | Beethoven | Piano Sonatas   | Alfred Brendel                               |\n",
    "| Romantic | Beethoven | String Quartets | Emerson String Quartet                       |\n",
    "| Romantic | Beethoven | Symphonies      | Berlin Philharmonic with Herbert von Karajan |\n",
    "\n",
    "I will evaluate the LLMs based on the following tags:\n",
    "* Composer - last name goes first. Use wikipedia for reference\n",
    "* Album\n",
    "* Year Recorded - a four-digit year\n",
    "* Orchestra - may be an orchestra, quartet, etc. translate the name of the ensemble into English\n",
    "* Conductor - last name goes first\n",
    "* Soloists - last name goes first. Separate multiple soloists with semi-colons\n",
    "* Genre - allowed values are: Renaissance, Baroque, Classical, Romantic, 20th Century, 21st Century\n",
    "* Work\n",
    "* Work Number - should be padded to the length of the largest work number in the specific work\n",
    "* InitialKey - single upper-case letter for major keys, upper-case letter plus minor for minor keys\n",
    "* Catalog # - should be padded to the length of the largest catalog number in the composer's oeuvre\n",
    "* Opus - should be padded to the length of the largest catalog number in the composer's oeuvre\n",
    "* Opus Number - should be padded to the length of the largest catalog number in the composer's oeuvre\n",
    "* Epithet\n",
    "* Movement - use Roman numerals\n",
    "\n",
    "Evaluation will be performed by plotting fraction of true positives for each parameter on a spider plot\n",
    "\n"
   ]
  },
  {
   "cell_type": "markdown",
   "metadata": {},
   "source": [
    "# Validation\n",
    "\n",
    "## Import Packages"
   ]
  },
  {
   "cell_type": "code",
   "execution_count": 1,
   "metadata": {},
   "outputs": [],
   "source": [
    "import numpy as np\n",
    "import pandas as pd"
   ]
  },
  {
   "cell_type": "markdown",
   "metadata": {},
   "source": [
    "## Create validation dataset: 1st Attempt"
   ]
  },
  {
   "cell_type": "code",
   "execution_count": 2,
   "metadata": {},
   "outputs": [
    {
     "name": "stdout",
     "output_type": "stream",
     "text": [
      "The total number of tracks in the validation set is 3129\n"
     ]
    }
   ],
   "source": [
    "# List of albums to be used in the validation set\n",
    "# Each album is specified as a list of five tags:\n",
    "# updated_composer\tupdated_album\tupdated_orchestra\tupdated_conductor\tupdated_soloists\n",
    "validation_albums = [\n",
    "    ['Bach, Johann Sebastian', 'Brandenburg Concertos · Orchestral Suites · Chamber Music', 'Musica Antiqua Köln', 'Goebel, Reinhard', ''],\n",
    "    ['Bach, Johann Sebastian', 'Harpsichord Concertos', 'Leonhardt-Consort', 'Leonhardt, Gustav', 'Leonhardt, Gustav'],\n",
    "    ['Bach, Johann Sebastian', 'Harpsichord Concertos', 'Leonhardt-Consort', 'Leonhardt, Gustav', 'Curtis, Alan'],\n",
    "    ['Bach, Johann Sebastian', 'Organ Works', '', '', 'Walcha, Helmut'],\n",
    "    ['Bach, Johann Sebastian', 'Complete Bach Collection', '', '', 'Gould, Glenn'],\n",
    "    ['Handel, George Frideric', 'Concerti Grossi Op 3 & Op 6', 'Münchener Bach-Orchester', 'Richter, Karl', ''],\n",
    "    ['Handel, George Frideric', 'Organ & Harpsichord Music', 'Amsterdam Baroque Orchestra', '', 'Koopman, Ton'],\n",
    "    ['Handel, George Frideric', 'Organ & Harpsichord Music', '', '', 'Ross, Scott'],\n",
    "    ['Handel, George Frideric', 'Organ & Harpsichord Music', '', '', 'Baumont, Olivier'],\n",
    "    ['Handel, George Frideric', 'Music for the Royal Fireworks · Water Music', 'Academy of St Martin in the Fields', 'Marriner, Neville', ''],\n",
    "    ['Haydn, Joseph', 'The Six Organ Concertos', 'Amsterdam Baroque Orchestra', 'Koopman, Ton', 'Koopman, Ton'],\n",
    "    ['Haydn, Joseph', 'Complete Harpsichord Concertos', 'Musica Antiqua Amsterdam', 'Koopman, Ton', 'Koopman, Ton'],\n",
    "    ['Haydn, Joseph', 'Complete Music for Solo Keyboard', '', '', 'Brautigam, Ronald'],\n",
    "    ['Haydn, Joseph', 'Complete String Quartets', 'Angeles String Quartet', '', ''],\n",
    "    ['Haydn, Joseph', 'Complete Symphonies', 'Austro-Hungarian Haydn Orchestra', 'Fischer, Adam', ''],\n",
    "    ['Mozart, Wolfgang Amadeus', 'Overtures', 'Staatskapelle Dresden', 'Davis, Colin', ''],\n",
    "    ['Mozart, Wolfgang Amadeus', 'Complete Piano Sonatas', '', '', 'Brautigam, Ronald'],\n",
    "    ['Mozart, Wolfgang Amadeus', 'Serenaden & Divertimenti', 'Camerata Salzburg', 'Vegh, Sandor', ''],\n",
    "    ['Mozart, Wolfgang Amadeus', 'The String Quartets', 'Amadeus Quartet', '', ''],\n",
    "    ['Mozart, Wolfgang Amadeus', 'The String Quintets', 'Amadeus Quartet', '', 'Aronowitz, Cecil'],\n",
    "    ['Mozart, Wolfgang Amadeus', '46 Symphonies', 'Berlin Philharmonic', 'Böhm, Karl', ''],\n",
    "    ['Mozart, Wolfgang Amadeus', 'Piano Concertos', 'Camerata Salzburg', 'Vegh, Sandor', 'Schiff, András'],\n",
    "    ['Vivaldi, Antonio', 'Vivaldi Edition, Volume 1', 'I Musici', '', ''],\n",
    "    ['Vivaldi, Antonio', 'Vivaldi Edition, Volume 2', 'I Musici', '', '']\n",
    "]\n",
    "\n",
    "# Read in the database of all tags\n",
    "tags_df = pd.read_excel('../tags.xlsx')\n",
    "\n",
    "# Create a boolean mask for filtering\n",
    "mask = pd.Series([False] * len(tags_df))\n",
    "\n",
    "# Iterate over each album in the validation set and update the mask\n",
    "for album in validation_albums:\n",
    "    composer, album_name, orchestra, conductor, soloists = album\n",
    "    mask |= (\n",
    "        (tags_df['updated_composer'] == composer) &\n",
    "        (tags_df['updated_album'] == album_name) &\n",
    "        ((tags_df['updated_orchestra'] == orchestra) | (orchestra == '')) &\n",
    "        ((tags_df['updated_conductor'] == conductor) | (conductor == '')) &\n",
    "        ((tags_df['updated_soloists'] == soloists) | (soloists == ''))\n",
    "    )\n",
    "\n",
    "# Subset the dataframe using the mask\n",
    "subset_df = tags_df[mask]\n",
    "\n",
    "print('The total number of tracks in the validation set is', len(subset_df))"
   ]
  },
  {
   "cell_type": "markdown",
   "metadata": {},
   "source": [
    "That is far too many tracks. Manual review reveals there are 145 distinct types of Works in the validation set. Let's randomly select one of each.\n",
    "\n",
    "## Create validation dataset: 2nd Attempt"
   ]
  },
  {
   "cell_type": "code",
   "execution_count": 3,
   "metadata": {},
   "outputs": [
    {
     "name": "stdout",
     "output_type": "stream",
     "text": [
      "The total number of distinct works in the validation set is 144 \n",
      "\n"
     ]
    },
    {
     "name": "stderr",
     "output_type": "stream",
     "text": [
      "/var/folders/g5/dxpsyhrn5zzgwgv936nr7nnr0000gn/T/ipykernel_39715/2232512969.py:11: DeprecationWarning: DataFrameGroupBy.apply operated on the grouping columns. This behavior is deprecated, and in a future version of pandas the grouping columns will be excluded from the operation. Either pass `include_groups=False` to exclude the groupings or explicitly select the grouping columns after groupby to silence this warning.\n",
      "  ).apply(lambda x: x.sample(1, random_state=seed)).reset_index(drop=True)\n",
      "/var/folders/g5/dxpsyhrn5zzgwgv936nr7nnr0000gn/T/ipykernel_39715/2232512969.py:12: FutureWarning: Downcasting behavior in `replace` is deprecated and will be removed in a future version. To retain the old behavior, explicitly call `result.infer_objects(copy=False)`. To opt-in to the future behavior, set `pd.set_option('future.no_silent_downcasting', True)`\n",
      "  validation_set.replace('', np.nan, inplace=True) # Replace empty strings with NaN\n"
     ]
    },
    {
     "name": "stdout",
     "output_type": "stream",
     "text": [
      "Number of updated_tag fields that have values:\n",
      "updated_composer         144\n",
      "updated_album            144\n",
      "updated_year recorded    144\n",
      "updated_orchestra         71\n",
      "updated_conductor         54\n",
      "updated_soloists          86\n",
      "updated_arranger           0\n",
      "updated_genre            144\n",
      "updated_discnumber       130\n",
      "updated_tracknumber      144\n",
      "updated_title            144\n",
      "updated_tracktitle         0\n",
      "updated_work             144\n",
      "updated_work number       39\n",
      "updated_initialkey       111\n",
      "updated_catalog #        143\n",
      "updated_opus              19\n",
      "updated_opus number       25\n",
      "updated_epithet           10\n",
      "updated_movement          73\n",
      "dtype: int64\n"
     ]
    }
   ],
   "source": [
    "# Determine the number of distinct types of works\n",
    "distinct_works = subset_df.drop_duplicates(subset=['updated_composer', 'updated_album', 'updated_orchestra', \n",
    "                                                   'updated_conductor', 'updated_soloists', 'updated_work'])\n",
    "print('The total number of distinct works in the validation set is', len(distinct_works), '\\n')\n",
    "\n",
    "# Randomly select one track for each work\n",
    "subset_df = subset_df.fillna('') # Fill missing values with an empty string for grouping\n",
    "seed = 0\n",
    "validation_set = subset_df.groupby(['updated_composer', 'updated_album', 'updated_orchestra', \n",
    "                                         'updated_conductor', 'updated_soloists', 'updated_work']\n",
    "                                         ).apply(lambda x: x.sample(1, random_state=seed)).reset_index(drop=True)\n",
    "validation_set.replace('', np.nan, inplace=True) # Replace empty strings with NaN\n",
    "\n",
    "# Write to file\n",
    "validation_set.to_excel('validation_set.xlsx', index=False)\n",
    "\n",
    "# Report the number of updated_tag fields that have values\n",
    "updated_tag_fields = [col for col in validation_set.columns if col.startswith('updated')]\n",
    "non_null_counts = validation_set[updated_tag_fields].notnull().sum()\n",
    "\n",
    "print(\"Number of updated_tag fields that have values:\")\n",
    "print(non_null_counts)\n"
   ]
  },
  {
   "cell_type": "code",
   "execution_count": null,
   "metadata": {},
   "outputs": [],
   "source": []
  }
 ],
 "metadata": {
  "kernelspec": {
   "display_name": "musicTagger",
   "language": "python",
   "name": "python3"
  },
  "language_info": {
   "name": "python",
   "version": "3.12.5"
  }
 },
 "nbformat": 4,
 "nbformat_minor": 2
}
