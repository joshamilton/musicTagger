{
 "cells": [
  {
   "cell_type": "markdown",
   "metadata": {},
   "source": [
    "# evaluate_llms.ipynb\n",
    "# Copyright (c) 2025, Joshua J Hamilton\n",
    "\n",
    "In this notebook, we will evaluate the ability of different LLMs to tag classical music audio files.\n",
    "\n",
    "I will evaluate the following LLMs:\n",
    "* DeepSeek V3\n",
    "* GPT-4o\n",
    "\n",
    "To evaluate the LLMs, I will\n",
    "* Perform prompt engineering to generate prompts for each LLM. Validate prompts based on works I have tagged thus far.\n",
    "* Evaluate prompts and LLMs and select one for testing.\n",
    "* Test the optimized prompt on a test set containing the complete works of Beethoven, who was not in the validation set\n",
    "\n",
    "Validation set:\n",
    "|updated_composer        |updated_album                                            |updated_orchestra                 |updated_conductor|updated_soloists |\n",
    "|------------------------|---------------------------------------------------------|----------------------------------|-----------------|-----------------|\n",
    "|Bach, Johann Sebastian  |Brandenburg Concertos · Orchestral Suites · Chamber Music|Musica Antiqua Köln               |Goebel, Reinhard |                 |\n",
    "|Bach, Johann Sebastian  |Harpsichord Concertos                                    |Leonhardt-Consort                 |Leonhardt, Gustav|Leonhardt, Gustav|\n",
    "|Bach, Johann Sebastian  |Harpsichord Concertos                                    |Leonhardt-Consort                 |Leonhardt, Gustav|Curtis, Alan     |\n",
    "|Bach, Johann Sebastian  |Organ Works                                              |                                  |                 |Walcha, Helmut   |\n",
    "|Bach, Johann Sebastian  |Complete Bach Collection                                 |                                  |                 |Gould, Glenn     |\n",
    "|Handel, George Frideric |Concerti Grossi Op 3 & Op 6                              |Münchener Bach-Orchester          |Richter, Karl    |                 |\n",
    "|Handel, George Frideric |Organ & Harpsichord Music                                |Amsterdam Baroque Orchestra       |                 |Koopman, Ton     |\n",
    "|Handel, George Frideric |Organ & Harpsichord Music                                |                                  |                 |Ross, Scott      |\n",
    "|Handel, George Frideric |Organ & Harpsichord Music                                |                                  |                 |Baumont, Olivier |\n",
    "|Handel, George Frideric |Music for the Royal Fireworks · Water Music              |Academy of St Martin in the Fields|Marriner, Neville|                 |\n",
    "|Haydn, Joseph           |The Six Organ Concertos                                  |Amsterdam Baroque Orchestra       |Koopman, Ton     |Koopman, Ton     |\n",
    "|Haydn, Joseph           |Complete Harpsichord Concertos                           |Musica Antiqua Amsterdam          |Koopman, Ton     |Koopman, Ton     |\n",
    "|Haydn, Joseph           |Complete Music for Solo Keyboard                         |                                  |                 |Brautigam, Ronald|\n",
    "|Haydn, Joseph           |Complete String Quartets                                 |Angeles String Quartet            |                 |                 |\n",
    "|Haydn, Joseph           |Complete Symphonies                                      |Austro-Hungarian Haydn Orchestra  |Fischer, Adam    |                 |\n",
    "|Mozart, Wolfgang Amadeus|Overtures                                                |Staatskapelle Dresden             |Davis, Colin     |                 |\n",
    "|Mozart, Wolfgang Amadeus|Complete Piano Sonatas                                   |                                  |                 |Brautigam, Ronald|\n",
    "|Mozart, Wolfgang Amadeus|Serenaden & Divertimenti                                 |Camerata Salzburg                 |Vegh, Sandor     |                 |\n",
    "|Mozart, Wolfgang Amadeus|The String Quartets                                      |Amadeus Quartet                   |                 |                 |\n",
    "|Mozart, Wolfgang Amadeus|The String Quintets                                      |Amadeus Quartet                   |                 |Aronowitz, Cecil |\n",
    "|Mozart, Wolfgang Amadeus|46 Symphonies                                            |Berlin Philharmonic               |Böhm, Karl       |                 |\n",
    "|Mozart, Wolfgang Amadeus|Piano Concertos                                          |Camerata Salzburg                 |Vegh, Sandor     |Schiff, András   |\n",
    "|Vivaldi, Antonio        |Vivaldi Edition, Volume 1                                |I Musici                          |                 |                 |\n",
    "|Vivaldi, Antonio        |Vivaldi Edition, Volume 2                                |I Musici                          |                 |                 |\n",
    "\n",
    "Test set:\n",
    "| Genre    | Composer  | Type of Work    | Recording                                    |\n",
    "| -------- | --------- | --------------- | -------------------------------------------- |\n",
    "| Romantic | Beethoven | Overtures       | Leipzig Gewandhaus Orchestra with Kart Masur |\n",
    "| Romantic | Beethoven | Piano Concertos | Wilhelm Kempff                               |\n",
    "| Romantic | Beethoven | Piano Sonatas   | Alfred Brendel                               |\n",
    "| Romantic | Beethoven | String Quartets | Emerson String Quartet                       |\n",
    "| Romantic | Beethoven | Symphonies      | Berlin Philharmonic with Herbert von Karajan |\n",
    "\n",
    "I will evaluate the LLMs based on the following tags:\n",
    "* Composer - Composer name, of the form LastName, FirstName (e.g., Beethoven, Ludwig van)\n",
    "* Album - Full album title on which the track appears\n",
    "* Year Recorded - Year the track was recorded. Not the year it was released. A four-digit number\n",
    "* Orchestra - Performing ensemble. May be an orchestra, quartet, etc. Translate the name of the ensemble into English. (e.g., \"Wiener Philharmoniker\" should be \"Vienna Philharmonic\")\n",
    "* Conductor - Conductor name, of the form LastName, FirstName (e.g. \"Karajan, Herbert von\")\n",
    "* Soloists - Soloist name, of the form LastName, FirstName. Separate multiple soloists with semi-colons and without a space (e.g., Gould, Glenn;Menuhin, Yehudi)\n",
    "* Genre - Musical period/style. Allowed values are: Renaissance, Baroque, Classical, Romantic, 20th Century, 21st Century\n",
    "* Work - The main musical work (e.g. \"Symphony\", \"String Quartet\")\n",
    "* Work Number - Numerical designation (e.g. \"No 41\"). Should be padded to the length of the largest work number within the specified work (e.g., Haydn's Symphony No 1 should be No 001 because Haydn write 104 symphonies)\n",
    "* InitialKey - Key signature. Single upper-case letter for major keys, upper-case letter plus minor for minor keys (e.g. \"C, \"E-flat minor\")\n",
    "* Catalog # - Standard catalog reference. Should be padded to the length of the largest number in the composer's catalog (e.g., Bach's BWV 1 should be BWV 0001 because Bach wrote over 1000 works)\n",
    "* Opus - Opus designation. Should be padded to the length of the largest opus number in the composer's oeuvre. (e.g., Beethoven's Op 1 should be Op 001 because Beethoven wrote 138 opuses)\n",
    "* Opus Number - Sub-designation within opus. Should be padded to the length of the highest piece number within the specific opus (e.g., Vivaldi's Op 3 No 1 should be No 01 because Vivaldi wrote 12 concertos in Op 3)\n",
    "* Epithet - common name (e.g. \"Jupiter\", \"Eroica\")\n",
    "* Movement - movement number and tempo. Use Roman numerals for movements. Separate the movement number and tempo with a period and a space (e.g. \"I. Allegro con brio\"). If the movement is a dance movement, separate the dance name from the tempo with a colon (e.g. \"III. Menuet: Allegro\"). If the movement is a multi-part movement, separate the parts with a dash (e.g. \"IV. Finale: Allegro - Presto\"). If the movement is a multi-part movement with a dance movement, separate the parts with a dash and the dance name from the tempo with a colon (e.g. \"III. Menuet: Allegro - Trio: Andante\").\n",
    "\n",
    "*Prompt engineering*: Evaluation will be performed by inspecting the true positive, false positive, and false negative rates of each LLM for each tag. Results of the evaluation will be used to develop a final prompt for the selected LLM.\n"
   ]
  },
  {
   "cell_type": "markdown",
   "metadata": {},
   "source": [
    "# Validation\n",
    "\n",
    "## Import Packages"
   ]
  },
  {
   "cell_type": "code",
   "execution_count": 11,
   "metadata": {},
   "outputs": [],
   "source": [
    "from IPython.display import display\n",
    "from pydantic import BaseModel, Field\n",
    "from openai import OpenAI\n",
    "from tqdm import tqdm\n",
    "import ipywidgets as widgets\n",
    "import itables\n",
    "import matplotlib.pyplot as plt\n",
    "import numpy as np\n",
    "import os\n",
    "import pandas as pd\n",
    "import plotly.graph_objects as go\n",
    "import re\n",
    "import seaborn as sns"
   ]
  },
  {
   "cell_type": "markdown",
   "metadata": {},
   "source": [
    "## Create validation dataset: 1st Attempt"
   ]
  },
  {
   "cell_type": "code",
   "execution_count": 2,
   "metadata": {},
   "outputs": [
    {
     "name": "stdout",
     "output_type": "stream",
     "text": [
      "The total number of tracks in the validation set is 3129\n"
     ]
    }
   ],
   "source": [
    "# List of albums to be used in the validation set\n",
    "# Each album is specified as a list of five tags:\n",
    "# updated_composer\tupdated_album\tupdated_orchestra\tupdated_conductor\tupdated_soloists\n",
    "validation_albums = [\n",
    "    ['Bach, Johann Sebastian', 'Brandenburg Concertos · Orchestral Suites · Chamber Music', 'Musica Antiqua Köln', 'Goebel, Reinhard', ''],\n",
    "    ['Bach, Johann Sebastian', 'Harpsichord Concertos', 'Leonhardt-Consort', 'Leonhardt, Gustav', 'Leonhardt, Gustav'],\n",
    "    ['Bach, Johann Sebastian', 'Harpsichord Concertos', 'Leonhardt-Consort', 'Leonhardt, Gustav', 'Curtis, Alan'],\n",
    "    ['Bach, Johann Sebastian', 'Organ Works', '', '', 'Walcha, Helmut'],\n",
    "    ['Bach, Johann Sebastian', 'Complete Bach Collection', '', '', 'Gould, Glenn'],\n",
    "    ['Handel, George Frideric', 'Concerti Grossi Op 3 & Op 6', 'Münchener Bach-Orchester', 'Richter, Karl', ''],\n",
    "    ['Handel, George Frideric', 'Organ & Harpsichord Music', 'Amsterdam Baroque Orchestra', '', 'Koopman, Ton'],\n",
    "    ['Handel, George Frideric', 'Organ & Harpsichord Music', '', '', 'Ross, Scott'],\n",
    "    ['Handel, George Frideric', 'Organ & Harpsichord Music', '', '', 'Baumont, Olivier'],\n",
    "    ['Handel, George Frideric', 'Music for the Royal Fireworks · Water Music', 'Academy of St Martin in the Fields', 'Marriner, Neville', ''],\n",
    "    ['Haydn, Joseph', 'The Six Organ Concertos', 'Amsterdam Baroque Orchestra', 'Koopman, Ton', 'Koopman, Ton'],\n",
    "    ['Haydn, Joseph', 'Complete Harpsichord Concertos', 'Musica Antiqua Amsterdam', 'Koopman, Ton', 'Koopman, Ton'],\n",
    "    ['Haydn, Joseph', 'Complete Music for Solo Keyboard', '', '', 'Brautigam, Ronald'],\n",
    "    ['Haydn, Joseph', 'Complete String Quartets', 'Angeles String Quartet', '', ''],\n",
    "    ['Haydn, Joseph', 'Complete Symphonies', 'Austro-Hungarian Haydn Orchestra', 'Fischer, Adam', ''],\n",
    "    ['Mozart, Wolfgang Amadeus', 'Overtures', 'Staatskapelle Dresden', 'Davis, Colin', ''],\n",
    "    ['Mozart, Wolfgang Amadeus', 'Complete Piano Sonatas', '', '', 'Brautigam, Ronald'],\n",
    "    ['Mozart, Wolfgang Amadeus', 'Serenaden & Divertimenti', 'Camerata Salzburg', 'Vegh, Sandor', ''],\n",
    "    ['Mozart, Wolfgang Amadeus', 'The String Quartets', 'Amadeus Quartet', '', ''],\n",
    "    ['Mozart, Wolfgang Amadeus', 'The String Quintets', 'Amadeus Quartet', '', 'Aronowitz, Cecil'],\n",
    "    ['Mozart, Wolfgang Amadeus', '46 Symphonies', 'Berlin Philharmonic', 'Böhm, Karl', ''],\n",
    "    ['Mozart, Wolfgang Amadeus', 'Piano Concertos', 'Camerata Salzburg', 'Vegh, Sandor', 'Schiff, András'],\n",
    "    ['Vivaldi, Antonio', 'Vivaldi Edition, Volume 1', 'I Musici', '', ''],\n",
    "    ['Vivaldi, Antonio', 'Vivaldi Edition, Volume 2', 'I Musici', '', '']\n",
    "]\n",
    "\n",
    "# Read in the database of all tags. Read all values as strings\n",
    "tags_df = pd.read_excel('../tags.xlsx', dtype=str)\n",
    "\n",
    "# Create a boolean mask for filtering\n",
    "mask = pd.Series([False] * len(tags_df))\n",
    "\n",
    "# Iterate over each album in the validation set and update the mask\n",
    "for album in validation_albums:\n",
    "    composer, album_name, orchestra, conductor, soloists = album\n",
    "    mask |= (\n",
    "        (tags_df['updated_composer'] == composer) &\n",
    "        (tags_df['updated_album'] == album_name) &\n",
    "        ((tags_df['updated_orchestra'] == orchestra) | (orchestra == '')) &\n",
    "        ((tags_df['updated_conductor'] == conductor) | (conductor == '')) &\n",
    "        ((tags_df['updated_soloists'] == soloists) | (soloists == ''))\n",
    "    )\n",
    "\n",
    "# Subset the dataframe using the mask\n",
    "subset_df = tags_df[mask]\n",
    "\n",
    "print('The total number of tracks in the validation set is', len(subset_df))"
   ]
  },
  {
   "cell_type": "markdown",
   "metadata": {},
   "source": [
    "That is far too many tracks. Manual review reveals there are 145 distinct types of Works in the validation set. Let's randomly select one of each.\n",
    "\n",
    "## Create validation dataset: 2nd Attempt"
   ]
  },
  {
   "cell_type": "code",
   "execution_count": 3,
   "metadata": {},
   "outputs": [
    {
     "name": "stdout",
     "output_type": "stream",
     "text": [
      "The total number of distinct works in the validation set is 144 \n",
      "\n"
     ]
    },
    {
     "name": "stderr",
     "output_type": "stream",
     "text": [
      "/var/folders/g5/dxpsyhrn5zzgwgv936nr7nnr0000gn/T/ipykernel_83660/1344851161.py:11: DeprecationWarning: DataFrameGroupBy.apply operated on the grouping columns. This behavior is deprecated, and in a future version of pandas the grouping columns will be excluded from the operation. Either pass `include_groups=False` to exclude the groupings or explicitly select the grouping columns after groupby to silence this warning.\n",
      "  ).apply(lambda x: x.sample(1, random_state=seed)).reset_index(drop=True)\n",
      "/var/folders/g5/dxpsyhrn5zzgwgv936nr7nnr0000gn/T/ipykernel_83660/1344851161.py:12: FutureWarning: Downcasting behavior in `replace` is deprecated and will be removed in a future version. To retain the old behavior, explicitly call `result.infer_objects(copy=False)`. To opt-in to the future behavior, set `pd.set_option('future.no_silent_downcasting', True)`\n",
      "  validation_set.replace('', np.nan, inplace=True) # Replace empty strings with NaN\n"
     ]
    },
    {
     "name": "stdout",
     "output_type": "stream",
     "text": [
      "Number of updated_tag fields that have values:\n",
      "updated_composer         144\n",
      "updated_album            144\n",
      "updated_year_recorded    144\n",
      "updated_orchestra         71\n",
      "updated_conductor         54\n",
      "updated_soloists          86\n",
      "updated_arranger           0\n",
      "updated_genre            144\n",
      "updated_discnumber       130\n",
      "updated_tracknumber      144\n",
      "updated_work             144\n",
      "updated_work_number       39\n",
      "updated_initialkey       111\n",
      "updated_catalog_#        143\n",
      "updated_opus              19\n",
      "updated_opus_number       25\n",
      "updated_epithet           10\n",
      "updated_movement          73\n",
      "dtype: int64\n"
     ]
    }
   ],
   "source": [
    "# Determine the number of distinct types of works\n",
    "distinct_works = subset_df.drop_duplicates(subset=['updated_composer', 'updated_album', 'updated_orchestra', \n",
    "                                                   'updated_conductor', 'updated_soloists', 'updated_work'])\n",
    "print('The total number of distinct works in the validation set is', len(distinct_works), '\\n')\n",
    "\n",
    "# Randomly select one track for each work\n",
    "subset_df = subset_df.fillna('') # Fill missing values with an empty string for grouping\n",
    "seed = 0\n",
    "validation_set = subset_df.groupby(['updated_composer', 'updated_album', 'updated_orchestra', \n",
    "                                         'updated_conductor', 'updated_soloists', 'updated_work']\n",
    "                                         ).apply(lambda x: x.sample(1, random_state=seed)).reset_index(drop=True)\n",
    "validation_set.replace('', np.nan, inplace=True) # Replace empty strings with NaN\n",
    "\n",
    "# Update all tag names to contain underscores instead of spaces\n",
    "validation_set.columns = validation_set.columns.str.replace(' ', '_')\n",
    "# Write to file\n",
    "validation_set.to_excel('validation_set.xlsx', index=False)\n",
    "\n",
    "# Report the number of updated_tag fields that have values. Drop the updated_title and updated_tracktitle fields, because\n",
    "# they get computed programmatically when renaming\n",
    "updated_tag_fields = [col for col in validation_set.columns if col.startswith('updated')]\n",
    "updated_tag_fields.remove('updated_title')\n",
    "updated_tag_fields.remove('updated_tracktitle')\n",
    "non_null_counts = validation_set[updated_tag_fields].notnull().sum()\n",
    "\n",
    "print(\"Number of updated_tag fields that have values:\")\n",
    "print(non_null_counts)\n"
   ]
  },
  {
   "cell_type": "markdown",
   "metadata": {},
   "source": [
    "# Evaluate OpenAI and DeepSeek using the validation set\n",
    "\n",
    "### Setup"
   ]
  },
  {
   "cell_type": "code",
   "execution_count": 4,
   "metadata": {},
   "outputs": [],
   "source": [
    "# Create a dataframe to store the results\n",
    "# The columns are: filename, tag, value\n",
    "results_df = pd.DataFrame(columns=['filename', 'tag', 'expected value', 'model', 'predicted value'])\n",
    "# Populate the dataframe with the validation set\n",
    "for index, row in validation_set.iterrows():\n",
    "    for tag in updated_tag_fields:\n",
    "        # Add empty strings for missing values\n",
    "        if pd.isna(row[tag]):\n",
    "            row[tag] = ''\n",
    "        # Append the filename, tag, and value to the results dataframe\n",
    "        new_row = [row['filename'], re.sub(r'updated_', '', tag), row[tag], '', '']\n",
    "        results_df.loc[len(results_df)] = new_row\n"
   ]
  },
  {
   "cell_type": "code",
   "execution_count": 5,
   "metadata": {},
   "outputs": [],
   "source": [
    "# # Temporarily subset to only the first two filenames\n",
    "# filenames = results_df['filename'].unique().tolist()[0:2]\n",
    "# validation_set = validation_set[validation_set['filename'].isin(filenames)]\n",
    "# results_df = results_df[results_df['filename'].isin(filenames)]\n",
    "\n",
    "# # Temporarily subset to these three tags: updated_composer, updated_orchestra, updated_conductor\n",
    "# tags = ['composer', 'orchestra', 'conductor']\n",
    "# results_df = results_df[results_df['tag'].isin(tags)]\n"
   ]
  },
  {
   "cell_type": "markdown",
   "metadata": {},
   "source": [
    "### Open AI - GPT-4o-mini"
   ]
  },
  {
   "cell_type": "code",
   "execution_count": 8,
   "metadata": {},
   "outputs": [
    {
     "name": "stderr",
     "output_type": "stream",
     "text": [
      "Processing: 100%|██████████| 144/144 [05:25<00:00,  2.26s/it]\n"
     ]
    }
   ],
   "source": [
    "# Set up OpenAI Client\n",
    "api_key = os.getenv('OPENAI_API_KEY')\n",
    "client = OpenAI(api_key = api_key)\n",
    "\n",
    "# Iterate over each row in the validation set and make predictions. This loop performs the following steps:\n",
    "# Creates the JSON schema for the response\n",
    "# Creates a prompt for the OpenAI API based on the filename and original tags\n",
    "# Calls the OpenAI API to get predictions for the updated tags\n",
    "# Updates the results dataframe with the predicted values\n",
    "\n",
    "# Create the JSON schema for the response\n",
    "class UpdatedTags(BaseModel):\n",
    "    updated_composer: str\n",
    "    updated_album: str\n",
    "    updated_year_recorded: str\n",
    "    updated_orchestra: str\n",
    "    updated_conductor: str\n",
    "    updated_soloists: str\n",
    "    updated_arranger: str\n",
    "    updated_genre: str\n",
    "    updated_discnumber: str\n",
    "    updated_tracknumber: str\n",
    "    updated_work: str\n",
    "    updated_work_number: str\n",
    "    updated_initialkey: str\n",
    "    updated_catalog_number: str = Field(alias='updated_catalog_#')\n",
    "    updated_opus: str\n",
    "    updated_opus_number: str\n",
    "    updated_epithet: str\n",
    "    updated_movement: str\n",
    "\n",
    "def create_prompt(row):\n",
    "    filename = row['filename']\n",
    "    original_tags = row[row.index.str.startswith('original_')].dropna().to_dict() # ignore NaN values\n",
    "    # Create a prompt\n",
    "    prompt = f\"Given the following filename and original tags:\\n\\n\"\n",
    "    prompt += f\"Filename: {filename}\\n\"\n",
    "    for tag, value in original_tags.items():\n",
    "        prompt += f\"{tag}: {value}\\n\"\n",
    "    prompt += \"\\n\\nPredict the following tags:\\n\\n\"\n",
    "    # Add the tags to predict\n",
    "    prompt += \"updated_composer: Composer name, of the form LastName, FirstName (e.g., Beethoven, Ludwig van)\\n\"\n",
    "    prompt += \"updated_album: Full album title on which the track appears. If the album title contains work by a single composer, do not include the composer's name. If the album title contains multiple works, they should be separated by an interpunct (e.g., Piano Sonata No 1 · Piano Concerto No 2). If the album title contains works by multiple composers, works should be grouped by composer and seperated by a pipe character (e.g., Haydn: Piano Sonata No 1 | Mozart: Piano Concerto No 2)\\n\"\n",
    "    prompt += \"updated_year_recorded: Year the track was recorded. Not the year it was released. A four-digit number\\n\"\n",
    "    prompt += \"updated_orchestra: Performing ensemble. May be an orchestra, quartet, etc. If the ensemble is commonly known by its English name, use the English name. (e.g., Wiener Philharmoniker should be Vienna Philharmonic)\\n\"\n",
    "    prompt += \"updated_conductor: Conductor name, of the form LastName, FirstName (e.g., Karajan, Herbert von)\\n\"\n",
    "    prompt += \"updated_soloists: Soloist name, of the form LastName, FirstName. Separate multiple soloists with semi-colons and without a space (e.g., Gould, Glenn;Menuhin, Yehudi)\\n\"\n",
    "    prompt += \"updated_arranger: Arranger name, of the form LastName, FirstName. For works which were originally written for a different type of ensemble. (e.g., Ravel, Maurice is the arranger for the orchestral version of Mussorgsky's Pictures at an Exhibition)\\n\"\n",
    "    prompt += \"updated_genre: Genre of the work. Allowed values are: Renaissance, Baroque, Classical, Romantic, 20th Century, 21st Century\\n\"\n",
    "    prompt += \"updated_discnumber: Disc number, for albums that contain multiple discs\\n\"\n",
    "    prompt += \"updated_tracknumber: Track number.\\n\"\n",
    "    prompt += \"updated_work: The main musical work, or the name for a collection of works (e.g., Symphony, String Quartet)\\n\"\n",
    "    prompt += \"updated_work_number: Numerical designation (e.g., No 41). Should be padded to the length of the largest work number within the specified work or collection of works (e.g., Haydn's Symphony No 1 should be No 001 because Haydn write 104 symphonies)\\n\"\n",
    "    prompt += \"updated_initialkey: Key signature. Single upper-case letter for major keys, upper-case letter plus minor for minor keys (e.g., C, E-flat minor)\\n\"\n",
    "    prompt += \"updated_catalog_#: Standard catalog reference. Should be padded to the length of the largest number in the composer's catalog (e.g., Bach's BWV 1 should be BWV 0001 because Bach wrote over 1000 works)\\n\"\n",
    "    prompt += \"updated_opus: Opus designation. Should be padded to the length of the largest opus number in the composer's oeuvre. (e.g., Beethoven's Op 1 should be Op 001 because Beethoven wrote 138 opuses)\\n\"\n",
    "    prompt += \"updated_opus_number: Sub-designation within opus. Should be padded to the length of the highest piece number within the specific opus (e.g., Vivaldi's Op 3 No 1 should be No 01 because Vivaldi wrote 12 concertos in Op 3)\\n\"\n",
    "    prompt += \"updated_epithet: Common name (e.g., Jupiter, Eroica)\\n\"\n",
    "    prompt += \"updated_movement: Movement number and tempo. Use only for works with multiple movements. Use Roman numerals for movements. Separate the movement number and tempo with a period and a space (e.g., I. Allegro con brio). If the movement is a dance movement, separate the dance name from the tempo with a colon (e.g., III. Menuet: Allegro). If the movement is a multi-part movement, separate the parts with a dash (e.g., IV. Finale: Allegro - Presto). If the movement is a multi-part movement with a dance movement, separate the parts with a dash and the dance name from the tempo with a colon (e.g., III. Menuet: Allegro - Trio: Andante)\\n\\n\"\n",
    "\n",
    "    # Return the result in JSON format.\n",
    "    prompt += \"\\n\\n Tags may be empty, in which case the predicted value should be an empty string. Return the results in JSON format.\\n\"\n",
    "\n",
    "    return prompt\n",
    "\n",
    "# Call the OpenAI API\n",
    "def call_openai_api(prompt):\n",
    "    # Call the OpenAI API\n",
    "    completion = client.beta.chat.completions.parse(\n",
    "        model=\"gpt-4o-mini-2024-07-18\",\n",
    "        messages=[\n",
    "            {\"role\": \"user\", \"content\": prompt},\n",
    "        ],\n",
    "        response_format=UpdatedTags,\n",
    "    )\n",
    "\n",
    "    event = completion.choices[0].message.parsed\n",
    "    return event\n",
    "\n",
    "# Update the \n",
    "def update_results_df(event, filename):\n",
    "    # Update the results dataframe\n",
    "    event_dict = event.model_dump(by_alias=True)\n",
    "    for key, value in event_dict.items():\n",
    "        tag = re.sub(r'updated_', '', key)\n",
    "        results_df.loc[(results_df['filename'] == filename) & (results_df['tag'] == tag), 'model'] = 'GPT-4o-mini'\n",
    "        results_df.loc[(results_df['filename'] == filename) & (results_df['tag'] == tag), 'predicted value'] = value\n",
    "\n",
    "# Iterate over each row in the validation set and make predictions\n",
    "for index, row in tqdm(validation_set.iterrows(), total=validation_set.shape[0], desc=\"Processing\"):\n",
    "    # Create a prompt\n",
    "    prompt = create_prompt(row)\n",
    "    # Call the API\n",
    "    event = call_openai_api(prompt)\n",
    "    # Update the results dataframe\n",
    "    update_results_df(event, row['filename'])\n",
    "\n",
    "# Write the results to a file\n",
    "results_df.to_excel('validation_results.xlsx', index=False)"
   ]
  },
  {
   "cell_type": "markdown",
   "metadata": {},
   "source": [
    "### DeepSeek - v3\n",
    "2025-02-06: DeepSeek has temporarily suspended access to their API"
   ]
  },
  {
   "cell_type": "markdown",
   "metadata": {},
   "source": [
    "### Visualization of Results\n",
    "\n",
    "Evaluate the performance of each model using interactive barplot and table. Calculate the confusion matrix and visualize the metrics (TP, TN, FP, FN) for each tag. Create an interactive widget that allows the user to select a tag, model, and metric, and view the underlying predictions."
   ]
  },
  {
   "cell_type": "code",
   "execution_count": 4,
   "metadata": {},
   "outputs": [
    {
     "data": {
      "application/vnd.plotly.v1+json": {
       "config": {
        "plotlyServerURL": "https://plot.ly"
       },
       "data": [
        {
         "name": "true_positive_rate",
         "orientation": "h",
         "type": "bar",
         "visible": true,
         "x": {
          "bdata": "5DiO4ziO7z/kOI7jOI7vP5jQXkJ7Ce0/EogLNSeB6D9XaqVWaqXmP47jOI7jON4/7ty5c+fO3T85juM4juPcP8dxHMdxHNs/ePMI1Wfa2j+DvqAv6AvaP6kn47dLPdk/AAAAAAAA0D+amZmZmZm5P3sUrkfherQ/AAAAAAAAAAAAAAAAAAAAAAAAAAAAAPj/",
          "dtype": "f8"
         },
         "y": [
          "composer",
          "genre",
          "conductor",
          "initialkey",
          "discnumber",
          "tracknumber",
          "movement",
          "year_recorded",
          "album",
          "catalog_#",
          "soloists",
          "orchestra",
          "work",
          "epithet",
          "opus_number",
          "opus",
          "work_number",
          "arranger"
         ]
        },
        {
         "name": "true_negative_rate",
         "orientation": "h",
         "type": "bar",
         "visible": false,
         "x": {
          "bdata": "AAAAAAAA8D8AAAAAAADwPwAAAAAAAPA/AAAAAAAA8D/8+PHjx4/vP2e38Ksxke4/C5sDiVbY7D/btm3btm3rP1uwBVuwBes/qBGWexph6T9VVVVVVVXlPxut0Rqt0bo/AAAAAAAA+P8AAAAAAAD4/wAAAAAAAPj/AAAAAAAA+P8AAAAAAAD4/wAAAAAAAPj/",
          "dtype": "f8"
         },
         "y": [
          "opus_number",
          "opus",
          "arranger",
          "catalog_#",
          "orchestra",
          "epithet",
          "movement",
          "discnumber",
          "conductor",
          "soloists",
          "initialkey",
          "work_number",
          "composer",
          "genre",
          "tracknumber",
          "year_recorded",
          "album",
          "work"
         ]
        },
        {
         "name": "false_positive_rate",
         "orientation": "h",
         "type": "bar",
         "visible": false,
         "x": {
          "bdata": "XcqlXMql7D9VVVVVVVXVP2G5pxGWe8o/lD7pkz7pwz+SJEmSJEnCP6kn47dLPbk/jYn0QOXspj/gwIEDBw6MPwAAAAAAAAAAAAAAAAAAAAAAAAAAAAAAAAAAAAAAAAAAAAAAAAAA+P8AAAAAAAD4/wAAAAAAAPj/AAAAAAAA+P8AAAAAAAD4/wAAAAAAAPj/",
          "dtype": "f8"
         },
         "y": [
          "work_number",
          "initialkey",
          "soloists",
          "conductor",
          "discnumber",
          "movement",
          "epithet",
          "orchestra",
          "catalog_#",
          "opus_number",
          "opus",
          "arranger",
          "composer",
          "genre",
          "tracknumber",
          "year_recorded",
          "album",
          "work"
         ]
        },
        {
         "name": "false_negative_rate",
         "orientation": "h",
         "type": "bar",
         "visible": false,
         "x": {
          "bdata": "AAAAAAAA8D8AAAAAAADwP3E9CtejcO0/zczMzMzM7D8AAAAAAADoPytsDiRaYeM/v6Av6Av64j9EhnsVzJLiPxzHcRzHceI/5DiO4ziO4T+JESNGjBjhPzmO4ziO4+A/Uyu1Uiu10j+239ErY/vNP0J7Ce0ltLc/HMdxHMdxjD8cx3Ecx3GMPwAAAAAAAPj/",
          "dtype": "f8"
         },
         "y": [
          "work_number",
          "opus",
          "opus_number",
          "epithet",
          "work",
          "orchestra",
          "soloists",
          "catalog_#",
          "album",
          "year_recorded",
          "movement",
          "tracknumber",
          "discnumber",
          "initialkey",
          "conductor",
          "composer",
          "genre",
          "arranger"
         ]
        }
       ],
       "layout": {
        "barmode": "group",
        "template": {
         "data": {
          "bar": [
           {
            "error_x": {
             "color": "#2a3f5f"
            },
            "error_y": {
             "color": "#2a3f5f"
            },
            "marker": {
             "line": {
              "color": "#E5ECF6",
              "width": 0.5
             },
             "pattern": {
              "fillmode": "overlay",
              "size": 10,
              "solidity": 0.2
             }
            },
            "type": "bar"
           }
          ],
          "barpolar": [
           {
            "marker": {
             "line": {
              "color": "#E5ECF6",
              "width": 0.5
             },
             "pattern": {
              "fillmode": "overlay",
              "size": 10,
              "solidity": 0.2
             }
            },
            "type": "barpolar"
           }
          ],
          "carpet": [
           {
            "aaxis": {
             "endlinecolor": "#2a3f5f",
             "gridcolor": "white",
             "linecolor": "white",
             "minorgridcolor": "white",
             "startlinecolor": "#2a3f5f"
            },
            "baxis": {
             "endlinecolor": "#2a3f5f",
             "gridcolor": "white",
             "linecolor": "white",
             "minorgridcolor": "white",
             "startlinecolor": "#2a3f5f"
            },
            "type": "carpet"
           }
          ],
          "choropleth": [
           {
            "colorbar": {
             "outlinewidth": 0,
             "ticks": ""
            },
            "type": "choropleth"
           }
          ],
          "contour": [
           {
            "colorbar": {
             "outlinewidth": 0,
             "ticks": ""
            },
            "colorscale": [
             [
              0,
              "#0d0887"
             ],
             [
              0.1111111111111111,
              "#46039f"
             ],
             [
              0.2222222222222222,
              "#7201a8"
             ],
             [
              0.3333333333333333,
              "#9c179e"
             ],
             [
              0.4444444444444444,
              "#bd3786"
             ],
             [
              0.5555555555555556,
              "#d8576b"
             ],
             [
              0.6666666666666666,
              "#ed7953"
             ],
             [
              0.7777777777777778,
              "#fb9f3a"
             ],
             [
              0.8888888888888888,
              "#fdca26"
             ],
             [
              1,
              "#f0f921"
             ]
            ],
            "type": "contour"
           }
          ],
          "contourcarpet": [
           {
            "colorbar": {
             "outlinewidth": 0,
             "ticks": ""
            },
            "type": "contourcarpet"
           }
          ],
          "heatmap": [
           {
            "colorbar": {
             "outlinewidth": 0,
             "ticks": ""
            },
            "colorscale": [
             [
              0,
              "#0d0887"
             ],
             [
              0.1111111111111111,
              "#46039f"
             ],
             [
              0.2222222222222222,
              "#7201a8"
             ],
             [
              0.3333333333333333,
              "#9c179e"
             ],
             [
              0.4444444444444444,
              "#bd3786"
             ],
             [
              0.5555555555555556,
              "#d8576b"
             ],
             [
              0.6666666666666666,
              "#ed7953"
             ],
             [
              0.7777777777777778,
              "#fb9f3a"
             ],
             [
              0.8888888888888888,
              "#fdca26"
             ],
             [
              1,
              "#f0f921"
             ]
            ],
            "type": "heatmap"
           }
          ],
          "histogram": [
           {
            "marker": {
             "pattern": {
              "fillmode": "overlay",
              "size": 10,
              "solidity": 0.2
             }
            },
            "type": "histogram"
           }
          ],
          "histogram2d": [
           {
            "colorbar": {
             "outlinewidth": 0,
             "ticks": ""
            },
            "colorscale": [
             [
              0,
              "#0d0887"
             ],
             [
              0.1111111111111111,
              "#46039f"
             ],
             [
              0.2222222222222222,
              "#7201a8"
             ],
             [
              0.3333333333333333,
              "#9c179e"
             ],
             [
              0.4444444444444444,
              "#bd3786"
             ],
             [
              0.5555555555555556,
              "#d8576b"
             ],
             [
              0.6666666666666666,
              "#ed7953"
             ],
             [
              0.7777777777777778,
              "#fb9f3a"
             ],
             [
              0.8888888888888888,
              "#fdca26"
             ],
             [
              1,
              "#f0f921"
             ]
            ],
            "type": "histogram2d"
           }
          ],
          "histogram2dcontour": [
           {
            "colorbar": {
             "outlinewidth": 0,
             "ticks": ""
            },
            "colorscale": [
             [
              0,
              "#0d0887"
             ],
             [
              0.1111111111111111,
              "#46039f"
             ],
             [
              0.2222222222222222,
              "#7201a8"
             ],
             [
              0.3333333333333333,
              "#9c179e"
             ],
             [
              0.4444444444444444,
              "#bd3786"
             ],
             [
              0.5555555555555556,
              "#d8576b"
             ],
             [
              0.6666666666666666,
              "#ed7953"
             ],
             [
              0.7777777777777778,
              "#fb9f3a"
             ],
             [
              0.8888888888888888,
              "#fdca26"
             ],
             [
              1,
              "#f0f921"
             ]
            ],
            "type": "histogram2dcontour"
           }
          ],
          "mesh3d": [
           {
            "colorbar": {
             "outlinewidth": 0,
             "ticks": ""
            },
            "type": "mesh3d"
           }
          ],
          "parcoords": [
           {
            "line": {
             "colorbar": {
              "outlinewidth": 0,
              "ticks": ""
             }
            },
            "type": "parcoords"
           }
          ],
          "pie": [
           {
            "automargin": true,
            "type": "pie"
           }
          ],
          "scatter": [
           {
            "fillpattern": {
             "fillmode": "overlay",
             "size": 10,
             "solidity": 0.2
            },
            "type": "scatter"
           }
          ],
          "scatter3d": [
           {
            "line": {
             "colorbar": {
              "outlinewidth": 0,
              "ticks": ""
             }
            },
            "marker": {
             "colorbar": {
              "outlinewidth": 0,
              "ticks": ""
             }
            },
            "type": "scatter3d"
           }
          ],
          "scattercarpet": [
           {
            "marker": {
             "colorbar": {
              "outlinewidth": 0,
              "ticks": ""
             }
            },
            "type": "scattercarpet"
           }
          ],
          "scattergeo": [
           {
            "marker": {
             "colorbar": {
              "outlinewidth": 0,
              "ticks": ""
             }
            },
            "type": "scattergeo"
           }
          ],
          "scattergl": [
           {
            "marker": {
             "colorbar": {
              "outlinewidth": 0,
              "ticks": ""
             }
            },
            "type": "scattergl"
           }
          ],
          "scattermap": [
           {
            "marker": {
             "colorbar": {
              "outlinewidth": 0,
              "ticks": ""
             }
            },
            "type": "scattermap"
           }
          ],
          "scattermapbox": [
           {
            "marker": {
             "colorbar": {
              "outlinewidth": 0,
              "ticks": ""
             }
            },
            "type": "scattermapbox"
           }
          ],
          "scatterpolar": [
           {
            "marker": {
             "colorbar": {
              "outlinewidth": 0,
              "ticks": ""
             }
            },
            "type": "scatterpolar"
           }
          ],
          "scatterpolargl": [
           {
            "marker": {
             "colorbar": {
              "outlinewidth": 0,
              "ticks": ""
             }
            },
            "type": "scatterpolargl"
           }
          ],
          "scatterternary": [
           {
            "marker": {
             "colorbar": {
              "outlinewidth": 0,
              "ticks": ""
             }
            },
            "type": "scatterternary"
           }
          ],
          "surface": [
           {
            "colorbar": {
             "outlinewidth": 0,
             "ticks": ""
            },
            "colorscale": [
             [
              0,
              "#0d0887"
             ],
             [
              0.1111111111111111,
              "#46039f"
             ],
             [
              0.2222222222222222,
              "#7201a8"
             ],
             [
              0.3333333333333333,
              "#9c179e"
             ],
             [
              0.4444444444444444,
              "#bd3786"
             ],
             [
              0.5555555555555556,
              "#d8576b"
             ],
             [
              0.6666666666666666,
              "#ed7953"
             ],
             [
              0.7777777777777778,
              "#fb9f3a"
             ],
             [
              0.8888888888888888,
              "#fdca26"
             ],
             [
              1,
              "#f0f921"
             ]
            ],
            "type": "surface"
           }
          ],
          "table": [
           {
            "cells": {
             "fill": {
              "color": "#EBF0F8"
             },
             "line": {
              "color": "white"
             }
            },
            "header": {
             "fill": {
              "color": "#C8D4E3"
             },
             "line": {
              "color": "white"
             }
            },
            "type": "table"
           }
          ]
         },
         "layout": {
          "annotationdefaults": {
           "arrowcolor": "#2a3f5f",
           "arrowhead": 0,
           "arrowwidth": 1
          },
          "autotypenumbers": "strict",
          "coloraxis": {
           "colorbar": {
            "outlinewidth": 0,
            "ticks": ""
           }
          },
          "colorscale": {
           "diverging": [
            [
             0,
             "#8e0152"
            ],
            [
             0.1,
             "#c51b7d"
            ],
            [
             0.2,
             "#de77ae"
            ],
            [
             0.3,
             "#f1b6da"
            ],
            [
             0.4,
             "#fde0ef"
            ],
            [
             0.5,
             "#f7f7f7"
            ],
            [
             0.6,
             "#e6f5d0"
            ],
            [
             0.7,
             "#b8e186"
            ],
            [
             0.8,
             "#7fbc41"
            ],
            [
             0.9,
             "#4d9221"
            ],
            [
             1,
             "#276419"
            ]
           ],
           "sequential": [
            [
             0,
             "#0d0887"
            ],
            [
             0.1111111111111111,
             "#46039f"
            ],
            [
             0.2222222222222222,
             "#7201a8"
            ],
            [
             0.3333333333333333,
             "#9c179e"
            ],
            [
             0.4444444444444444,
             "#bd3786"
            ],
            [
             0.5555555555555556,
             "#d8576b"
            ],
            [
             0.6666666666666666,
             "#ed7953"
            ],
            [
             0.7777777777777778,
             "#fb9f3a"
            ],
            [
             0.8888888888888888,
             "#fdca26"
            ],
            [
             1,
             "#f0f921"
            ]
           ],
           "sequentialminus": [
            [
             0,
             "#0d0887"
            ],
            [
             0.1111111111111111,
             "#46039f"
            ],
            [
             0.2222222222222222,
             "#7201a8"
            ],
            [
             0.3333333333333333,
             "#9c179e"
            ],
            [
             0.4444444444444444,
             "#bd3786"
            ],
            [
             0.5555555555555556,
             "#d8576b"
            ],
            [
             0.6666666666666666,
             "#ed7953"
            ],
            [
             0.7777777777777778,
             "#fb9f3a"
            ],
            [
             0.8888888888888888,
             "#fdca26"
            ],
            [
             1,
             "#f0f921"
            ]
           ]
          },
          "colorway": [
           "#636efa",
           "#EF553B",
           "#00cc96",
           "#ab63fa",
           "#FFA15A",
           "#19d3f3",
           "#FF6692",
           "#B6E880",
           "#FF97FF",
           "#FECB52"
          ],
          "font": {
           "color": "#2a3f5f"
          },
          "geo": {
           "bgcolor": "white",
           "lakecolor": "white",
           "landcolor": "#E5ECF6",
           "showlakes": true,
           "showland": true,
           "subunitcolor": "white"
          },
          "hoverlabel": {
           "align": "left"
          },
          "hovermode": "closest",
          "mapbox": {
           "style": "light"
          },
          "paper_bgcolor": "white",
          "plot_bgcolor": "#E5ECF6",
          "polar": {
           "angularaxis": {
            "gridcolor": "white",
            "linecolor": "white",
            "ticks": ""
           },
           "bgcolor": "#E5ECF6",
           "radialaxis": {
            "gridcolor": "white",
            "linecolor": "white",
            "ticks": ""
           }
          },
          "scene": {
           "xaxis": {
            "backgroundcolor": "#E5ECF6",
            "gridcolor": "white",
            "gridwidth": 2,
            "linecolor": "white",
            "showbackground": true,
            "ticks": "",
            "zerolinecolor": "white"
           },
           "yaxis": {
            "backgroundcolor": "#E5ECF6",
            "gridcolor": "white",
            "gridwidth": 2,
            "linecolor": "white",
            "showbackground": true,
            "ticks": "",
            "zerolinecolor": "white"
           },
           "zaxis": {
            "backgroundcolor": "#E5ECF6",
            "gridcolor": "white",
            "gridwidth": 2,
            "linecolor": "white",
            "showbackground": true,
            "ticks": "",
            "zerolinecolor": "white"
           }
          },
          "shapedefaults": {
           "line": {
            "color": "#2a3f5f"
           }
          },
          "ternary": {
           "aaxis": {
            "gridcolor": "white",
            "linecolor": "white",
            "ticks": ""
           },
           "baxis": {
            "gridcolor": "white",
            "linecolor": "white",
            "ticks": ""
           },
           "bgcolor": "#E5ECF6",
           "caxis": {
            "gridcolor": "white",
            "linecolor": "white",
            "ticks": ""
           }
          },
          "title": {
           "x": 0.05
          },
          "xaxis": {
           "automargin": true,
           "gridcolor": "white",
           "linecolor": "white",
           "ticks": "",
           "title": {
            "standoff": 15
           },
           "zerolinecolor": "white",
           "zerolinewidth": 2
          },
          "yaxis": {
           "automargin": true,
           "gridcolor": "white",
           "linecolor": "white",
           "ticks": "",
           "title": {
            "standoff": 15
           },
           "zerolinecolor": "white",
           "zerolinewidth": 2
          }
         }
        },
        "title": {
         "text": "True Positive Rate"
        },
        "updatemenus": [
         {
          "buttons": [
           {
            "args": [
             {
              "visible": [
               true,
               false,
               false,
               false
              ]
             },
             {
              "title": "True Positive Rate"
             }
            ],
            "label": "True Positive Rate",
            "method": "update"
           },
           {
            "args": [
             {
              "visible": [
               false,
               true,
               false,
               false
              ]
             },
             {
              "title": "True Negative Rate"
             }
            ],
            "label": "True Negative Rate",
            "method": "update"
           },
           {
            "args": [
             {
              "visible": [
               false,
               false,
               true,
               false
              ]
             },
             {
              "title": "False Positive Rate"
             }
            ],
            "label": "False Positive Rate",
            "method": "update"
           },
           {
            "args": [
             {
              "visible": [
               false,
               false,
               false,
               true
              ]
             },
             {
              "title": "False Negative Rate"
             }
            ],
            "label": "False Negative Rate",
            "method": "update"
           }
          ],
          "direction": "down",
          "showactive": true
         }
        ],
        "xaxis": {
         "title": {
          "text": "Rate"
         }
        },
        "yaxis": {
         "title": {
          "text": "Tag"
         }
        }
       }
      }
     },
     "metadata": {},
     "output_type": "display_data"
    }
   ],
   "source": [
    "# Create an interactive plot to compare the models\n",
    "# The plot shows the true positive rate, true negative rate, false positive rate, \n",
    "# and false negative rate for each model and tag\n",
    "  \n",
    "# Function to determine if a value is considered \"empty\". These are the \"actual condition negatives\"\n",
    "def is_empty(value):\n",
    "    return pd.isna(value) or value == ''\n",
    "\n",
    "# Calculate true positives, true negatives, false positives, and false negatives\n",
    "def calculate_metrics(row):\n",
    "    expected = row['expected value']\n",
    "    predicted = row['predicted value']\n",
    "    \n",
    "    if not is_empty(expected) and expected == predicted:\n",
    "        return 'true_positive'\n",
    "    elif not is_empty(expected) and expected != predicted:\n",
    "        return 'false_negative'\n",
    "    elif is_empty(expected) and is_empty(predicted):\n",
    "        return 'true_negative'\n",
    "    elif is_empty(expected) and not is_empty(predicted):\n",
    "        return 'false_positive'\n",
    "    \n",
    "results_df['metric'] = results_df.apply(calculate_metrics, axis=1)\n",
    "\n",
    "# Aggregate metrics by model and tag\n",
    "metrics_df = results_df.groupby(['model', 'tag', 'metric']).size().unstack(fill_value=0).reset_index()\n",
    "\n",
    "# Calculate rates and sort\n",
    "metrics_df['true_positive_rate'] = metrics_df['true_positive'] / (metrics_df['true_positive'] + metrics_df['false_negative'])\n",
    "metrics_df['false_positive_rate'] = metrics_df['false_positive'] / (metrics_df['false_positive'] + metrics_df['true_negative'])\n",
    "metrics_df['true_negative_rate'] = metrics_df['true_negative'] / (metrics_df['true_negative'] + metrics_df['false_positive'])\n",
    "metrics_df['false_negative_rate'] = metrics_df['false_negative'] / (metrics_df['false_negative'] + metrics_df['true_positive'])\n",
    "metrics_df = metrics_df.sort_values(by='true_positive_rate', ascending=False)\n",
    "\n",
    "# Melt dataframe for plotting\n",
    "metrics_df = metrics_df.melt(id_vars=['model', 'tag'], value_vars=['true_positive_rate', 'true_negative_rate', 'false_positive_rate', 'false_negative_rate'], var_name='metric', value_name='rate')\n",
    "\n",
    "# Create a figure\n",
    "fig = go.Figure()\n",
    "\n",
    "# Add traces for each metric\n",
    "metrics = ['true_positive_rate', 'true_negative_rate', 'false_positive_rate', 'false_negative_rate']\n",
    "for metric in metrics:\n",
    "    filtered_df = metrics_df[metrics_df['metric'] == metric].sort_values(by='rate', ascending=False)\n",
    "    fig.add_trace(go.Bar(\n",
    "        x=filtered_df['rate'],\n",
    "        y=filtered_df['tag'],\n",
    "        name=metric,\n",
    "        orientation='h',  # Set the orientation to horizontal\n",
    "        visible=(metric == 'true_positive_rate')  # Only show the first metric initially\n",
    "    ))\n",
    "\n",
    "# Update layout with dropdown menu\n",
    "fig.update_layout(\n",
    "    updatemenus=[\n",
    "        dict(\n",
    "            buttons=[\n",
    "                dict(label='True Positive Rate',\n",
    "                     method='update',\n",
    "                     args=[{'visible': [metric == 'true_positive_rate' for metric in metrics]},\n",
    "                           {'title': 'True Positive Rate'}]),\n",
    "                dict(label='True Negative Rate',\n",
    "                     method='update',\n",
    "                     args=[{'visible': [metric == 'true_negative_rate' for metric in metrics]},\n",
    "                           {'title': 'True Negative Rate'}]),\n",
    "                dict(label='False Positive Rate',\n",
    "                     method='update',\n",
    "                     args=[{'visible': [metric == 'false_positive_rate' for metric in metrics]},\n",
    "                           {'title': 'False Positive Rate'}]),\n",
    "                dict(label='False Negative Rate',\n",
    "                     method='update',\n",
    "                     args=[{'visible': [metric == 'false_negative_rate' for metric in metrics]},\n",
    "                           {'title': 'False Negative Rate'}]),\n",
    "            ],\n",
    "            direction='down',\n",
    "            showactive=True,\n",
    "        )\n",
    "    ]\n",
    ")\n",
    "\n",
    "# Set initial layout properties\n",
    "fig.update_layout(\n",
    "    title='True Positive Rate',\n",
    "    xaxis_title='Rate',\n",
    "    yaxis_title='Tag',\n",
    "    barmode='group'\n",
    ")\n",
    "\n",
    "fig.show()"
   ]
  },
  {
   "cell_type": "code",
   "execution_count": 12,
   "metadata": {},
   "outputs": [
    {
     "data": {
      "application/vnd.jupyter.widget-view+json": {
       "model_id": "9433bceeb55e4f3aad40d81c11f40b40",
       "version_major": 2,
       "version_minor": 0
      },
      "text/plain": [
       "Dropdown(description='Model:', options=('GPT-4o-mini',), value='GPT-4o-mini')"
      ]
     },
     "metadata": {},
     "output_type": "display_data"
    },
    {
     "data": {
      "application/vnd.jupyter.widget-view+json": {
       "model_id": "c97accf88cc84eb8bb2f566fac4a3467",
       "version_major": 2,
       "version_minor": 0
      },
      "text/plain": [
       "Dropdown(description='Tag:', options=('composer', 'album', 'year_recorded', 'orchestra', 'conductor', 'soloist…"
      ]
     },
     "metadata": {},
     "output_type": "display_data"
    },
    {
     "data": {
      "application/vnd.jupyter.widget-view+json": {
       "model_id": "c8acdf4a84e94136a62e0166683610bc",
       "version_major": 2,
       "version_minor": 0
      },
      "text/plain": [
       "Dropdown(description='Metric:', options=('true_positive', 'false_negative', 'true_negative', 'false_positive')…"
      ]
     },
     "metadata": {},
     "output_type": "display_data"
    },
    {
     "data": {
      "application/vnd.jupyter.widget-view+json": {
       "model_id": "5d35f56849d7408c968100e830c4dd1b",
       "version_major": 2,
       "version_minor": 0
      },
      "text/plain": [
       "Output()"
      ]
     },
     "metadata": {},
     "output_type": "display_data"
    }
   ],
   "source": [
    "# Create an interactive table to drill down into the results\n",
    "# The table shows the expected and predicted values based on selections (model, tag, metric)\n",
    "\n",
    "# Create dropdown widgets for model, tag, and metric\n",
    "model_dropdown = widgets.Dropdown(\n",
    "    options=results_df['model'].unique(),\n",
    "    description='Model:'\n",
    ")\n",
    "\n",
    "tag_dropdown = widgets.Dropdown(\n",
    "    options=results_df['tag'].unique(),\n",
    "    description='Tag:'\n",
    ")\n",
    "\n",
    "metric_dropdown = widgets.Dropdown(\n",
    "    options=results_df['metric'].unique(),\n",
    "    description='Metric:'\n",
    ")\n",
    "\n",
    "# Create an output widget for displaying the table\n",
    "output = widgets.Output()\n",
    "\n",
    "# Update function to display the expected and predicted values based on selections\n",
    "def update_table(change):\n",
    "    selected_model = model_dropdown.value\n",
    "    selected_tag = tag_dropdown.value\n",
    "    selected_metric = metric_dropdown.value\n",
    "    \n",
    "    filtered_df = results_df[\n",
    "        (results_df['model'] == selected_model) &\n",
    "        (results_df['tag'] == selected_tag) &\n",
    "        (results_df['metric'] == selected_metric)\n",
    "    ]\n",
    "    \n",
    "    with output:\n",
    "        output.clear_output()\n",
    "        itables.show(filtered_df[['expected value', 'predicted value']])\n",
    "\n",
    "# Attach the update function to the dropdown widgets\n",
    "model_dropdown.observe(update_table, names='value')\n",
    "tag_dropdown.observe(update_table, names='value')\n",
    "metric_dropdown.observe(update_table, names='value')\n",
    "\n",
    "# Display the widgets and the output\n",
    "display(model_dropdown, tag_dropdown, metric_dropdown, output)\n",
    "\n",
    "# Initial display\n",
    "update_table(None)\n"
   ]
  },
  {
   "cell_type": "markdown",
   "metadata": {},
   "source": [
    "### Interpretation of Results\n",
    "\n"
   ]
  }
 ],
 "metadata": {
  "kernelspec": {
   "display_name": "musicTagger",
   "language": "python",
   "name": "python3"
  },
  "language_info": {
   "codemirror_mode": {
    "name": "ipython",
    "version": 3
   },
   "file_extension": ".py",
   "mimetype": "text/x-python",
   "name": "python",
   "nbconvert_exporter": "python",
   "pygments_lexer": "ipython3",
   "version": "3.12.5"
  }
 },
 "nbformat": 4,
 "nbformat_minor": 2
}
